{
  "nbformat": 4,
  "nbformat_minor": 0,
  "metadata": {
    "colab": {
      "provenance": [],
      "gpuType": "T4",
      "mount_file_id": "1AxRBJasKWFX5qfcTfBd47KusswxWNygU",
      "authorship_tag": "ABX9TyNcQa/iWS9gI5MpTLgHS3st",
      "include_colab_link": true
    },
    "kernelspec": {
      "name": "python3",
      "display_name": "Python 3"
    },
    "language_info": {
      "name": "python"
    },
    "accelerator": "GPU"
  },
  "cells": [
    {
      "cell_type": "markdown",
      "metadata": {
        "id": "view-in-github",
        "colab_type": "text"
      },
      "source": [
        "<a href=\"https://colab.research.google.com/github/jbrent00/Senior-Design-Project/blob/ResNet18-L2Reg(.0001)-LR(.0001)-DA-DO(.5)-v2/Senior_Design.ipynb\" target=\"_parent\"><img src=\"https://colab.research.google.com/assets/colab-badge.svg\" alt=\"Open In Colab\"/></a>"
      ]
    },
    {
      "cell_type": "markdown",
      "source": [
        "# Mount Google Drive"
      ],
      "metadata": {
        "id": "JhlPrpEFB5x7"
      }
    },
    {
      "cell_type": "code",
      "source": [
        "from google.colab import drive\n",
        "drive.mount('/content/drive')"
      ],
      "metadata": {
        "colab": {
          "base_uri": "https://localhost:8080/"
        },
        "id": "7agD9TYM3ENT",
        "outputId": "b31c42c6-06ca-4cf6-8338-3f2beeee7266"
      },
      "execution_count": 1,
      "outputs": [
        {
          "output_type": "stream",
          "name": "stdout",
          "text": [
            "Drive already mounted at /content/drive; to attempt to forcibly remount, call drive.mount(\"/content/drive\", force_remount=True).\n"
          ]
        }
      ]
    },
    {
      "cell_type": "markdown",
      "source": [
        "# Downloading Dataset from Kaggle"
      ],
      "metadata": {
        "id": "-B9pwuJpAdWh"
      }
    },
    {
      "cell_type": "code",
      "execution_count": null,
      "metadata": {
        "id": "8oGwJZXlrpC3",
        "collapsed": true,
        "colab": {
          "base_uri": "https://localhost:8080/"
        },
        "outputId": "42c2ec43-ab84-4794-a45a-97a26d423054"
      },
      "outputs": [
        {
          "output_type": "stream",
          "name": "stdout",
          "text": [
            "Requirement already satisfied: kaggle in /usr/local/lib/python3.11/dist-packages (1.7.4.2)\n",
            "Requirement already satisfied: bleach in /usr/local/lib/python3.11/dist-packages (from kaggle) (6.2.0)\n",
            "Requirement already satisfied: certifi>=14.05.14 in /usr/local/lib/python3.11/dist-packages (from kaggle) (2025.1.31)\n",
            "Requirement already satisfied: charset-normalizer in /usr/local/lib/python3.11/dist-packages (from kaggle) (3.4.1)\n",
            "Requirement already satisfied: idna in /usr/local/lib/python3.11/dist-packages (from kaggle) (3.10)\n",
            "Requirement already satisfied: protobuf in /usr/local/lib/python3.11/dist-packages (from kaggle) (5.29.4)\n",
            "Requirement already satisfied: python-dateutil>=2.5.3 in /usr/local/lib/python3.11/dist-packages (from kaggle) (2.8.2)\n",
            "Requirement already satisfied: python-slugify in /usr/local/lib/python3.11/dist-packages (from kaggle) (8.0.4)\n",
            "Requirement already satisfied: requests in /usr/local/lib/python3.11/dist-packages (from kaggle) (2.32.3)\n",
            "Requirement already satisfied: setuptools>=21.0.0 in /usr/local/lib/python3.11/dist-packages (from kaggle) (75.2.0)\n",
            "Requirement already satisfied: six>=1.10 in /usr/local/lib/python3.11/dist-packages (from kaggle) (1.17.0)\n",
            "Requirement already satisfied: text-unidecode in /usr/local/lib/python3.11/dist-packages (from kaggle) (1.3)\n",
            "Requirement already satisfied: tqdm in /usr/local/lib/python3.11/dist-packages (from kaggle) (4.67.1)\n",
            "Requirement already satisfied: urllib3>=1.15.1 in /usr/local/lib/python3.11/dist-packages (from kaggle) (2.3.0)\n",
            "Requirement already satisfied: webencodings in /usr/local/lib/python3.11/dist-packages (from kaggle) (0.5.1)\n"
          ]
        }
      ],
      "source": [
        "!pip install kaggle\n"
      ]
    },
    {
      "cell_type": "code",
      "source": [
        "from google.colab import files\n",
        "files.upload()\n"
      ],
      "metadata": {
        "id": "rsqpob8vCV5E"
      },
      "execution_count": null,
      "outputs": []
    },
    {
      "cell_type": "code",
      "source": [
        "!mkdir -p ~/.kaggle\n",
        "!mv kaggle.json ~/.kaggle/\n",
        "!chmod 600 ~/.kaggle/kaggle.json\n"
      ],
      "metadata": {
        "id": "2n4-_1KwCjOm"
      },
      "execution_count": null,
      "outputs": []
    },
    {
      "cell_type": "code",
      "source": [
        "!kaggle datasets download -d paultimothymooney/chest-xray-pneumonia -p /content/drive/MyDrive/datasets/chest_xray_pneumonia --unzip\n"
      ],
      "metadata": {
        "id": "wcoSqcrXC4Nk",
        "collapsed": true,
        "colab": {
          "base_uri": "https://localhost:8080/"
        },
        "outputId": "4da102cc-e950-4e81-8520-6a21ed184337"
      },
      "execution_count": null,
      "outputs": [
        {
          "output_type": "stream",
          "name": "stdout",
          "text": [
            "Dataset URL: https://www.kaggle.com/datasets/paultimothymooney/chest-xray-pneumonia\n",
            "License(s): other\n"
          ]
        }
      ]
    },
    {
      "cell_type": "markdown",
      "source": [
        "# Creating Augmented Images"
      ],
      "metadata": {
        "id": "_Xq06QlxA4i1"
      }
    },
    {
      "cell_type": "code",
      "source": [
        "!pip install --upgrade Augmentor"
      ],
      "metadata": {
        "colab": {
          "base_uri": "https://localhost:8080/"
        },
        "collapsed": true,
        "id": "uXsMZ_gtv03w",
        "outputId": "35ae487c-c50e-449b-eb22-5eb4009145e9"
      },
      "execution_count": null,
      "outputs": [
        {
          "output_type": "stream",
          "name": "stdout",
          "text": [
            "Requirement already satisfied: Augmentor in /usr/local/lib/python3.11/dist-packages (0.2.12)\n",
            "Requirement already satisfied: Pillow>=5.2.0 in /usr/local/lib/python3.11/dist-packages (from Augmentor) (11.1.0)\n",
            "Requirement already satisfied: tqdm>=4.9.0 in /usr/local/lib/python3.11/dist-packages (from Augmentor) (4.67.1)\n",
            "Requirement already satisfied: numpy>=1.11.0 in /usr/local/lib/python3.11/dist-packages (from Augmentor) (2.0.2)\n"
          ]
        }
      ]
    },
    {
      "cell_type": "code",
      "source": [
        "# Create Augmented Images for the \"Normal\" class in Training Set\n",
        "import Augmentor\n",
        "import os\n",
        "\n",
        "# Step 1: Count Pneumonia Images ---\n",
        "pneumonia_dir = \"/content/drive/MyDrive/datasets/chest_xray_pneumonia/chest_xray/train/PNEUMONIA\"  # Path to pneumonia images in MyDrive\n",
        "num_pneumonia_images = len(os.listdir(pneumonia_dir))\n",
        "\n",
        "# Step 2: Create Augmentation Pipeline for Normal Class ---\n",
        "normal_dir = \"/content/drive/MyDrive/datasets/chest_xray_pneumonia/chest_xray/train/NORMAL\"  # Path to normal images in MyDrive\n",
        "p = Augmentor.Pipeline(normal_dir)  # Path to normal images in MyDrive\n",
        "\n",
        "# Step 3: Add Augmentations ---\n",
        "p.rotate(probability=0.3, max_left_rotation=15, max_right_rotation=15)\n",
        "p.zoom(probability=0.3, min_factor=1.1, max_factor=1.5)\n",
        "p.flip_left_right(probability=0.5)\n",
        "p.flip_top_bottom(probability=0.5)  # Consider removing or reducing probability for medical images\n",
        "p.random_distortion(probability=0.9, grid_width=2, grid_height=2, magnitude=8)\n",
        "\n",
        "# Step 4: Generate Augmented Images and Save to Drive ---\n",
        "num_augmented_images = num_pneumonia_images - len(os.listdir(normal_dir))  # Number of normal images needed\n",
        "output_dir = \"/content/drive/MyDrive/datasets/chest_xray_pneumonia/chest_xray/train/augmented_normal\"  # Path to save augmented images in MyDrive\n",
        "p.sample(num_augmented_images)\n",
        "\n",
        "print(f\"Generated {num_augmented_images} augmented images for the normal class and saved to {output_dir}.\")"
      ],
      "metadata": {
        "colab": {
          "base_uri": "https://localhost:8080/"
        },
        "id": "eOfslixurZcH",
        "outputId": "0db123e6-960f-4488-bf6c-28eabe0f6e1b"
      },
      "execution_count": null,
      "outputs": [
        {
          "output_type": "stream",
          "name": "stdout",
          "text": [
            "Initialised with 1341 image(s) found.\n",
            "Output directory set to /content/drive/MyDrive/datasets/chest_xray_pneumonia/chest_xray/train/NORMAL/output."
          ]
        },
        {
          "output_type": "stream",
          "name": "stderr",
          "text": [
            "Processing <PIL.Image.Image image mode=L size=1824x1426 at 0x7F3BD04CBC50>: 100%|██████████| 2533/2533 [06:38<00:00,  6.35 Samples/s]"
          ]
        },
        {
          "output_type": "stream",
          "name": "stdout",
          "text": [
            "Generated 2533 augmented images for the normal class and saved to /content/drive/MyDrive/datasets/chest_xray_pneumonia/chest_xray/train/augmented_normal.\n"
          ]
        },
        {
          "output_type": "stream",
          "name": "stderr",
          "text": [
            "\n"
          ]
        }
      ]
    },
    {
      "cell_type": "code",
      "source": [
        "import shutil\n",
        "import os\n",
        "\n",
        "# Source directory (where augmented images are currently saved)\n",
        "source_dir = \"/content/drive/MyDrive/datasets/chest_xray_pneumonia/chest_xray/train/output\"\n",
        "\n",
        "# Destination directory (where you want to move the augmented images)\n",
        "destination_dir = \"/content/drive/MyDrive/datasets/chest_xray_pneumonia/chest_xray/train/NORMAL\"\n",
        "\n",
        "# Move the images\n",
        "for filename in os.listdir(source_dir):\n",
        "    source_file = os.path.join(source_dir, filename)  # Full path to the source image\n",
        "    destination_file = os.path.join(destination_dir, filename)  # Full path to the destination\n",
        "    shutil.move(source_file, destination_file)  # Move the image\n",
        "\n",
        "print(f\"Augmented images moved from '{source_dir}' to '{destination_dir}'\")"
      ],
      "metadata": {
        "colab": {
          "base_uri": "https://localhost:8080/"
        },
        "id": "2kkPLz96z7P1",
        "outputId": "bef22e5e-ebb4-4c7a-cdf6-3333a4697480"
      },
      "execution_count": null,
      "outputs": [
        {
          "output_type": "stream",
          "name": "stdout",
          "text": [
            "Augmented images moved from '/content/drive/MyDrive/datasets/chest_xray_pneumonia/chest_xray/train/output' to '/content/drive/MyDrive/datasets/chest_xray_pneumonia/chest_xray/train/NORMAL'\n"
          ]
        }
      ]
    },
    {
      "cell_type": "code",
      "source": [
        "import os\n",
        "\n",
        "dataset_root = \"/content/drive/MyDrive/datasets/chest_xray_pneumonia/chest_xray/train\"\n",
        "print(\"Dataset contents:\", os.listdir(dataset_root))"
      ],
      "metadata": {
        "colab": {
          "base_uri": "https://localhost:8080/"
        },
        "id": "kW70z8rJrBsw",
        "outputId": "ada9ecdf-04d3-4ad3-a261-3697dcb2c6c8"
      },
      "execution_count": null,
      "outputs": [
        {
          "output_type": "stream",
          "name": "stdout",
          "text": [
            "Dataset contents: ['NORMAL', 'PNEUMONIA']\n"
          ]
        }
      ]
    },
    {
      "cell_type": "markdown",
      "source": [
        "# Method to Increase the Validation Set Size"
      ],
      "metadata": {
        "id": "IlJN5SdkBOYt"
      }
    },
    {
      "cell_type": "code",
      "source": [
        "import os\n",
        "import shutil\n",
        "import random\n",
        "\n",
        "def increase_validation_set(train_dir, val_dir, target_val_size):\n",
        "    \"\"\"\n",
        "    Increases the size of the validation set by moving images from the training set.\n",
        "\n",
        "    Args:\n",
        "        train_dir: Path to the training directory.\n",
        "        val_dir: Path to the validation directory.\n",
        "        target_val_size: Desired size of the validation set.\n",
        "    \"\"\"\n",
        "    # Calculate how many images to move\n",
        "    num_to_move = target_val_size - len(os.listdir(os.path.join(val_dir, \"NORMAL\"))) - len(os.listdir(os.path.join(val_dir, \"PNEUMONIA\")))\n",
        "\n",
        "    # Ensure num_to_move is positive\n",
        "    num_to_move = max(0, num_to_move)\n",
        "\n",
        "    if num_to_move == 0:\n",
        "        print(\"Validation set is already large enough.\")\n",
        "        return\n",
        "\n",
        "    # Get a list of images in the training set\n",
        "    train_images_normal = os.listdir(os.path.join(train_dir, \"NORMAL\"))\n",
        "    train_images_pneumonia = os.listdir(os.path.join(train_dir, \"PNEUMONIA\"))\n",
        "\n",
        "    # Randomly select images to move, ensuring enough images are available\n",
        "    images_to_move_normal = random.sample(train_images_normal, min(num_to_move // 2, len(train_images_normal)))\n",
        "    images_to_move_pneumonia = random.sample(train_images_pneumonia, min(num_to_move // 2, len(train_images_pneumonia)))\n",
        "\n",
        "\n",
        "    # Move the selected images\n",
        "    for image_name in images_to_move_normal:\n",
        "        shutil.move(os.path.join(train_dir, \"NORMAL\", image_name), os.path.join(val_dir, \"NORMAL\", image_name))\n",
        "    for image_name in images_to_move_pneumonia:\n",
        "        shutil.move(os.path.join(train_dir, \"PNEUMONIA\", image_name), os.path.join(val_dir, \"PNEUMONIA\", image_name))\n",
        "\n",
        "    print(f\"Moved {len(images_to_move_normal) + len(images_to_move_pneumonia)} images from training set to validation set.\")"
      ],
      "metadata": {
        "id": "7fqSSR4URv2l"
      },
      "execution_count": null,
      "outputs": []
    },
    {
      "cell_type": "code",
      "source": [
        "\n",
        "# increase_validation_set(train_dir, val_dir, target_val_size=512)"
      ],
      "metadata": {
        "id": "YxEmBe9lWlrJ"
      },
      "execution_count": null,
      "outputs": []
    },
    {
      "cell_type": "markdown",
      "source": [
        "# Verifying Filepaths for Train, Test, Validation Directories before training"
      ],
      "metadata": {
        "id": "Pi9CFiYxBbK-"
      }
    },
    {
      "cell_type": "code",
      "source": [
        "# Copy Dataset from Google Drive to Colab\n",
        "import shutil\n",
        "import os\n",
        "\n",
        "# Source (Google Drive Path)\n",
        "source_path = \"/content/drive/MyDrive/datasets/chest_xray_pneumonia/chest_xray\"\n",
        "\n",
        "# Destination (Colab Path)\n",
        "destination_path = \"/content\"\n",
        "\n",
        "# Copy the entire directory tree\n",
        "shutil.copytree(source_path, destination_path, dirs_exist_ok=True)"
      ],
      "metadata": {
        "colab": {
          "base_uri": "https://localhost:8080/",
          "height": 35
        },
        "id": "S-iT5iRmKWXG",
        "outputId": "89577613-f153-4b5e-854c-e627ebbc95dc"
      },
      "execution_count": 2,
      "outputs": [
        {
          "output_type": "execute_result",
          "data": {
            "text/plain": [
              "'/content'"
            ],
            "application/vnd.google.colaboratory.intrinsic+json": {
              "type": "string"
            }
          },
          "metadata": {},
          "execution_count": 2
        }
      ]
    },
    {
      "cell_type": "code",
      "source": [
        "import os\n",
        "\n",
        "dataset_root = \"/content/\"\n",
        "\n",
        "# Paths to Train, Validation, Test Images\n",
        "train_dir = os.path.join(dataset_root, \"train\")\n",
        "val_dir = os.path.join(dataset_root, \"val\")\n",
        "test_dir = os.path.join(dataset_root, \"test\")\n",
        "\n",
        "# Verify paths\n",
        "print(\"Train:\", os.listdir(train_dir))\n",
        "print(\"Validation:\", os.listdir(val_dir))\n",
        "print(\"Test:\", os.listdir(test_dir))"
      ],
      "metadata": {
        "id": "jxpXOxw1HW_o",
        "collapsed": true,
        "colab": {
          "base_uri": "https://localhost:8080/"
        },
        "outputId": "d706e06a-9269-4b30-b9cc-c1867cb53699"
      },
      "execution_count": 3,
      "outputs": [
        {
          "output_type": "stream",
          "name": "stdout",
          "text": [
            "Train: ['NORMAL', 'PNEUMONIA']\n",
            "Validation: ['NORMAL', 'PNEUMONIA']\n",
            "Test: ['NORMAL', 'PNEUMONIA']\n"
          ]
        }
      ]
    },
    {
      "cell_type": "code",
      "source": [
        "# Delete .DS_Store\n",
        "!find /content/chest_xray/train /content/chest_xray/val /content/chest_xray/test -name \".DS_Store\" -delete"
      ],
      "metadata": {
        "id": "O11KTp4ZN9V3"
      },
      "execution_count": null,
      "outputs": []
    },
    {
      "cell_type": "code",
      "source": [
        "from PIL import Image\n",
        "\n",
        "# Open the image using PIL\n",
        "img = Image.open(\"/content/train/NORMAL/IM-0115-0001.jpeg\")\n",
        "\n",
        "# Check the image mode\n",
        "if img.mode == \"L\":\n",
        "    print(\"Image is grayscale\")\n",
        "elif img.mode == \"RGB\":\n",
        "    print(\"Image is RGB\")\n",
        "else:\n",
        "    print(\"Image is in another format:\", img.mode)"
      ],
      "metadata": {
        "colab": {
          "base_uri": "https://localhost:8080/"
        },
        "id": "_8SWwysvp7V9",
        "outputId": "0cadf524-f18b-4bd9-dc01-fb0215581b54"
      },
      "execution_count": 4,
      "outputs": [
        {
          "output_type": "stream",
          "name": "stdout",
          "text": [
            "Image is grayscale\n"
          ]
        }
      ]
    },
    {
      "cell_type": "markdown",
      "source": [
        "# Image Preprocessing and Creation of Dataloaders"
      ],
      "metadata": {
        "id": "qopuTCSuCGVn"
      }
    },
    {
      "cell_type": "code",
      "source": [
        "# Image Preprocessing (Resizing to 224x224, normalize pixel values, data augmentation)\n",
        "import torchvision.transforms as transforms\n",
        "\n",
        "# Define transformations for preprocessing\n",
        "preprocess_transforms = transforms.Compose([\n",
        "    transforms.Resize((224, 224)),  # Resize images\n",
        "    transforms.Grayscale(num_output_channels=3),  # Convert to 3-channel grayscale\n",
        "    transforms.ToTensor(),  # Convert to tensor\n",
        "    transforms.Normalize(mean=[0.5, 0.5, 0.5], std=[0.5, 0.5, 0.5])  # Normalize for RGB\n",
        "])\n",
        "\n",
        "# Define transformations for augmentation\n",
        "augment_transforms = transforms.Compose([\n",
        "    transforms.RandomHorizontalFlip(),  # Augmentation\n",
        "])\n",
        "\n"
      ],
      "metadata": {
        "id": "C4jsENkWIPNH"
      },
      "execution_count": 88,
      "outputs": []
    },
    {
      "cell_type": "code",
      "source": [
        "# Create PyTorch Dataset and Dataloaders\n",
        "from torchvision.datasets import ImageFolder\n",
        "from torch.utils.data import DataLoader\n",
        "\n",
        "# Training Set (Normal, Pneumonia, and augmented images)\n",
        "train_dataset = ImageFolder(root=\"/content/train\", transform=preprocess_transforms)\n",
        "\n",
        "# Validation Set (Normal, Pneumonia)\n",
        "val_dataset = ImageFolder(root=\"/content/val\", transform=preprocess_transforms)\n",
        "\n",
        "# Test Set (Normal, Pneumonia)\n",
        "test_dataset = ImageFolder(root=\"/content/test\", transform=preprocess_transforms)\n",
        "\n",
        "# Data Loaders\n",
        "train_loader = DataLoader(train_dataset, batch_size=32, shuffle=True)\n",
        "val_loader = DataLoader(val_dataset, batch_size=32, shuffle=False)\n",
        "test_loader = DataLoader(test_dataset, batch_size=32, shuffle=False)"
      ],
      "metadata": {
        "id": "FvgOZ8Le-kWE"
      },
      "execution_count": 89,
      "outputs": []
    },
    {
      "cell_type": "code",
      "source": [
        "print(\"Training Set Size: \", len(train_dataset))\n",
        "print(\"Validation Set Size: \",len(val_dataset))\n",
        "print(\"Test Set Size: \",len(test_dataset))"
      ],
      "metadata": {
        "colab": {
          "base_uri": "https://localhost:8080/"
        },
        "id": "SssdtGaNEXNd",
        "outputId": "cb609240-5448-4936-8f5d-82a247eff564"
      },
      "execution_count": 90,
      "outputs": [
        {
          "output_type": "stream",
          "name": "stdout",
          "text": [
            "Training Set Size:  7749\n",
            "Validation Set Size:  16\n",
            "Test Set Size:  624\n"
          ]
        }
      ]
    },
    {
      "cell_type": "markdown",
      "source": [
        "# Displaying some Sample Images from the Dataset"
      ],
      "metadata": {
        "id": "LhTHo1XRCUct"
      }
    },
    {
      "cell_type": "code",
      "source": [
        "# Display some sample images to confirm dataset is correctly loaded\n",
        "import matplotlib.pyplot as plt\n",
        "import numpy as np\n",
        "\n",
        "# Function to show images\n",
        "def show_images(dataset, num_images=6):\n",
        "    fig, axes = plt.subplots(1, num_images, figsize=(12, 4))\n",
        "    for i in range(num_images):\n",
        "        img, label = dataset[i]\n",
        "        img = img.permute(1, 2, 0)  # Convert from (C, H, W) to (H, W, C)\n",
        "        img = img * 0.5 + 0.5  # Unnormalize\n",
        "        axes[i].imshow(img, cmap=\"gray\")\n",
        "        axes[i].set_title(\"Normal\" if label == 0 else \"Pneumonia\")\n",
        "        axes[i].axis(\"off\")\n",
        "    plt.show()\n",
        "\n",
        "# Display images from the training set\n",
        "show_images(train_dataset)\n"
      ],
      "metadata": {
        "id": "rKbTKd7HJtGG"
      },
      "execution_count": null,
      "outputs": []
    },
    {
      "cell_type": "code",
      "source": [
        "print(\"Class-to-Index Mapping:\", train_dataset.class_to_idx)\n"
      ],
      "metadata": {
        "colab": {
          "base_uri": "https://localhost:8080/"
        },
        "id": "qa5HcYp7K4CF",
        "outputId": "90a4fe9e-7a77-4857-f1a3-7c58fcef2dcc"
      },
      "execution_count": null,
      "outputs": [
        {
          "output_type": "stream",
          "name": "stdout",
          "text": [
            "Class-to-Index Mapping: {'NORMAL': 0, 'PNEUMONIA': 1}\n"
          ]
        }
      ]
    },
    {
      "cell_type": "code",
      "source": [
        "import random\n",
        "\n",
        "def show_balanced_images(dataset, num_images=6):\n",
        "    fig, axes = plt.subplots(1, num_images, figsize=(12, 4))\n",
        "\n",
        "    # Collect equal samples of both classes\n",
        "    normal_images = [img for img, label in dataset if label == 0]\n",
        "    pneumonia_images = [img for img, label in dataset if label == 1]\n",
        "\n",
        "    # Ensure we have at least num_images/2 images per class\n",
        "    num_per_class = num_images // 2\n",
        "    normal_samples = random.sample(normal_images, min(num_per_class, len(normal_images)))\n",
        "    pneumonia_samples = random.sample(pneumonia_images, min(num_per_class, len(pneumonia_images)))\n",
        "\n",
        "    # Combine and shuffle\n",
        "    samples = normal_samples + pneumonia_samples\n",
        "    random.shuffle(samples)\n",
        "\n",
        "    # Display images\n",
        "    for i, img in enumerate(samples):\n",
        "        img = img.permute(1, 2, 0)  # Convert from (C, H, W) to (H, W, C)\n",
        "        img = img * 0.5 + 0.5  # Unnormalize\n",
        "        axes[i].imshow(img, cmap=\"gray\")\n",
        "        axes[i].set_title(\"Normal\" if i < num_per_class else \"Pneumonia\")\n",
        "        axes[i].axis(\"off\")\n",
        "\n",
        "    plt.show()\n",
        "\n",
        "# Display balanced images\n",
        "show_balanced_images(train_dataset)\n"
      ],
      "metadata": {
        "colab": {
          "base_uri": "https://localhost:8080/",
          "height": 192
        },
        "id": "TIpq9YG9LKSV",
        "outputId": "7a2ee325-c31d-4e90-d1b5-2d874eb3489b"
      },
      "execution_count": null,
      "outputs": [
        {
          "output_type": "display_data",
          "data": {
            "text/plain": [
              "<Figure size 1200x400 with 6 Axes>"
            ],
            "image/png": "[encoded data removed]"
          },
          "metadata": {}
        }
      ]
    },
    {
      "cell_type": "markdown",
      "source": [
        "# Initialization of the CNN, Optimizer, and Loss Function"
      ],
      "metadata": {
        "id": "ePKXqliKCgrk"
      }
    },
    {
      "cell_type": "code",
      "source": [
        "# Initialize the Model: ResNet-18\n",
        "\n",
        "import torch\n",
        "import torch.nn as nn\n",
        "import torchvision.models as models\n",
        "\n",
        "# Load the ResNet18 model\n",
        "model = models.resnet18(weights=models.ResNet18_Weights.DEFAULT)\n",
        "\n",
        "# Freeze all layers except the final fully connected layer\n",
        "for param in model.parameters():\n",
        "    param.requires_grad = False\n",
        "\n",
        "# Modify the final fully connected layer for binary classification\n",
        "num_features = model.fc.in_features  # Get the input size of the FC layer\n",
        "model.fc = nn.Sequential(\n",
        "    nn.Dropout(p=0.5),  # Dropout with probability (p= (.5-.2))\n",
        "    nn.Linear(num_features, 2)  # 2 Classes (Normal, Pneumonia)\n",
        ")\n",
        "\n",
        "# Unfreeze the parameters in the new fully connected layer\n",
        "for param in model.fc.parameters():\n",
        "    param.requires_grad = True\n",
        "\n",
        "# Move model to GPU if available\n",
        "device = torch.device(\"cuda\" if torch.cuda.is_available() else \"cpu\")\n",
        "model = model.to(device)\n",
        "\n",
        "print(model)  # Verify model architecture\n"
      ],
      "metadata": {
        "colab": {
          "base_uri": "https://localhost:8080/"
        },
        "id": "U3rm6FlgNIL0",
        "outputId": "f9c7005c-cccc-45e8-cc17-37e398c0490f",
        "collapsed": true
      },
      "execution_count": 91,
      "outputs": [
        {
          "output_type": "stream",
          "name": "stdout",
          "text": [
            "ResNet(\n",
            "  (conv1): Conv2d(3, 64, kernel_size=(7, 7), stride=(2, 2), padding=(3, 3), bias=False)\n",
            "  (bn1): BatchNorm2d(64, eps=1e-05, momentum=0.1, affine=True, track_running_stats=True)\n",
            "  (relu): ReLU(inplace=True)\n",
            "  (maxpool): MaxPool2d(kernel_size=3, stride=2, padding=1, dilation=1, ceil_mode=False)\n",
            "  (layer1): Sequential(\n",
            "    (0): BasicBlock(\n",
            "      (conv1): Conv2d(64, 64, kernel_size=(3, 3), stride=(1, 1), padding=(1, 1), bias=False)\n",
            "      (bn1): BatchNorm2d(64, eps=1e-05, momentum=0.1, affine=True, track_running_stats=True)\n",
            "      (relu): ReLU(inplace=True)\n",
            "      (conv2): Conv2d(64, 64, kernel_size=(3, 3), stride=(1, 1), padding=(1, 1), bias=False)\n",
            "      (bn2): BatchNorm2d(64, eps=1e-05, momentum=0.1, affine=True, track_running_stats=True)\n",
            "    )\n",
            "    (1): BasicBlock(\n",
            "      (conv1): Conv2d(64, 64, kernel_size=(3, 3), stride=(1, 1), padding=(1, 1), bias=False)\n",
            "      (bn1): BatchNorm2d(64, eps=1e-05, momentum=0.1, affine=True, track_running_stats=True)\n",
            "      (relu): ReLU(inplace=True)\n",
            "      (conv2): Conv2d(64, 64, kernel_size=(3, 3), stride=(1, 1), padding=(1, 1), bias=False)\n",
            "      (bn2): BatchNorm2d(64, eps=1e-05, momentum=0.1, affine=True, track_running_stats=True)\n",
            "    )\n",
            "  )\n",
            "  (layer2): Sequential(\n",
            "    (0): BasicBlock(\n",
            "      (conv1): Conv2d(64, 128, kernel_size=(3, 3), stride=(2, 2), padding=(1, 1), bias=False)\n",
            "      (bn1): BatchNorm2d(128, eps=1e-05, momentum=0.1, affine=True, track_running_stats=True)\n",
            "      (relu): ReLU(inplace=True)\n",
            "      (conv2): Conv2d(128, 128, kernel_size=(3, 3), stride=(1, 1), padding=(1, 1), bias=False)\n",
            "      (bn2): BatchNorm2d(128, eps=1e-05, momentum=0.1, affine=True, track_running_stats=True)\n",
            "      (downsample): Sequential(\n",
            "        (0): Conv2d(64, 128, kernel_size=(1, 1), stride=(2, 2), bias=False)\n",
            "        (1): BatchNorm2d(128, eps=1e-05, momentum=0.1, affine=True, track_running_stats=True)\n",
            "      )\n",
            "    )\n",
            "    (1): BasicBlock(\n",
            "      (conv1): Conv2d(128, 128, kernel_size=(3, 3), stride=(1, 1), padding=(1, 1), bias=False)\n",
            "      (bn1): BatchNorm2d(128, eps=1e-05, momentum=0.1, affine=True, track_running_stats=True)\n",
            "      (relu): ReLU(inplace=True)\n",
            "      (conv2): Conv2d(128, 128, kernel_size=(3, 3), stride=(1, 1), padding=(1, 1), bias=False)\n",
            "      (bn2): BatchNorm2d(128, eps=1e-05, momentum=0.1, affine=True, track_running_stats=True)\n",
            "    )\n",
            "  )\n",
            "  (layer3): Sequential(\n",
            "    (0): BasicBlock(\n",
            "      (conv1): Conv2d(128, 256, kernel_size=(3, 3), stride=(2, 2), padding=(1, 1), bias=False)\n",
            "      (bn1): BatchNorm2d(256, eps=1e-05, momentum=0.1, affine=True, track_running_stats=True)\n",
            "      (relu): ReLU(inplace=True)\n",
            "      (conv2): Conv2d(256, 256, kernel_size=(3, 3), stride=(1, 1), padding=(1, 1), bias=False)\n",
            "      (bn2): BatchNorm2d(256, eps=1e-05, momentum=0.1, affine=True, track_running_stats=True)\n",
            "      (downsample): Sequential(\n",
            "        (0): Conv2d(128, 256, kernel_size=(1, 1), stride=(2, 2), bias=False)\n",
            "        (1): BatchNorm2d(256, eps=1e-05, momentum=0.1, affine=True, track_running_stats=True)\n",
            "      )\n",
            "    )\n",
            "    (1): BasicBlock(\n",
            "      (conv1): Conv2d(256, 256, kernel_size=(3, 3), stride=(1, 1), padding=(1, 1), bias=False)\n",
            "      (bn1): BatchNorm2d(256, eps=1e-05, momentum=0.1, affine=True, track_running_stats=True)\n",
            "      (relu): ReLU(inplace=True)\n",
            "      (conv2): Conv2d(256, 256, kernel_size=(3, 3), stride=(1, 1), padding=(1, 1), bias=False)\n",
            "      (bn2): BatchNorm2d(256, eps=1e-05, momentum=0.1, affine=True, track_running_stats=True)\n",
            "    )\n",
            "  )\n",
            "  (layer4): Sequential(\n",
            "    (0): BasicBlock(\n",
            "      (conv1): Conv2d(256, 512, kernel_size=(3, 3), stride=(2, 2), padding=(1, 1), bias=False)\n",
            "      (bn1): BatchNorm2d(512, eps=1e-05, momentum=0.1, affine=True, track_running_stats=True)\n",
            "      (relu): ReLU(inplace=True)\n",
            "      (conv2): Conv2d(512, 512, kernel_size=(3, 3), stride=(1, 1), padding=(1, 1), bias=False)\n",
            "      (bn2): BatchNorm2d(512, eps=1e-05, momentum=0.1, affine=True, track_running_stats=True)\n",
            "      (downsample): Sequential(\n",
            "        (0): Conv2d(256, 512, kernel_size=(1, 1), stride=(2, 2), bias=False)\n",
            "        (1): BatchNorm2d(512, eps=1e-05, momentum=0.1, affine=True, track_running_stats=True)\n",
            "      )\n",
            "    )\n",
            "    (1): BasicBlock(\n",
            "      (conv1): Conv2d(512, 512, kernel_size=(3, 3), stride=(1, 1), padding=(1, 1), bias=False)\n",
            "      (bn1): BatchNorm2d(512, eps=1e-05, momentum=0.1, affine=True, track_running_stats=True)\n",
            "      (relu): ReLU(inplace=True)\n",
            "      (conv2): Conv2d(512, 512, kernel_size=(3, 3), stride=(1, 1), padding=(1, 1), bias=False)\n",
            "      (bn2): BatchNorm2d(512, eps=1e-05, momentum=0.1, affine=True, track_running_stats=True)\n",
            "    )\n",
            "  )\n",
            "  (avgpool): AdaptiveAvgPool2d(output_size=(1, 1))\n",
            "  (fc): Sequential(\n",
            "    (0): Dropout(p=0.5, inplace=False)\n",
            "    (1): Linear(in_features=512, out_features=2, bias=True)\n",
            "  )\n",
            ")\n"
          ]
        }
      ]
    },
    {
      "cell_type": "code",
      "source": [
        "\n",
        "# Check if layers are frozen\n",
        "for name, param in model.named_parameters():\n",
        "    print(f\"Layer: {name}, Requires Grad: {param.requires_grad}\")"
      ],
      "metadata": {
        "collapsed": true,
        "colab": {
          "base_uri": "https://localhost:8080/"
        },
        "id": "3a7jzJpP79vM",
        "outputId": "2e0ba44f-44bf-4be8-baa7-472e9168e294"
      },
      "execution_count": 92,
      "outputs": [
        {
          "output_type": "stream",
          "name": "stdout",
          "text": [
            "Layer: conv1.weight, Requires Grad: False\n",
            "Layer: bn1.weight, Requires Grad: False\n",
            "Layer: bn1.bias, Requires Grad: False\n",
            "Layer: layer1.0.conv1.weight, Requires Grad: False\n",
            "Layer: layer1.0.bn1.weight, Requires Grad: False\n",
            "Layer: layer1.0.bn1.bias, Requires Grad: False\n",
            "Layer: layer1.0.conv2.weight, Requires Grad: False\n",
            "Layer: layer1.0.bn2.weight, Requires Grad: False\n",
            "Layer: layer1.0.bn2.bias, Requires Grad: False\n",
            "Layer: layer1.1.conv1.weight, Requires Grad: False\n",
            "Layer: layer1.1.bn1.weight, Requires Grad: False\n",
            "Layer: layer1.1.bn1.bias, Requires Grad: False\n",
            "Layer: layer1.1.conv2.weight, Requires Grad: False\n",
            "Layer: layer1.1.bn2.weight, Requires Grad: False\n",
            "Layer: layer1.1.bn2.bias, Requires Grad: False\n",
            "Layer: layer2.0.conv1.weight, Requires Grad: False\n",
            "Layer: layer2.0.bn1.weight, Requires Grad: False\n",
            "Layer: layer2.0.bn1.bias, Requires Grad: False\n",
            "Layer: layer2.0.conv2.weight, Requires Grad: False\n",
            "Layer: layer2.0.bn2.weight, Requires Grad: False\n",
            "Layer: layer2.0.bn2.bias, Requires Grad: False\n",
            "Layer: layer2.0.downsample.0.weight, Requires Grad: False\n",
            "Layer: layer2.0.downsample.1.weight, Requires Grad: False\n",
            "Layer: layer2.0.downsample.1.bias, Requires Grad: False\n",
            "Layer: layer2.1.conv1.weight, Requires Grad: False\n",
            "Layer: layer2.1.bn1.weight, Requires Grad: False\n",
            "Layer: layer2.1.bn1.bias, Requires Grad: False\n",
            "Layer: layer2.1.conv2.weight, Requires Grad: False\n",
            "Layer: layer2.1.bn2.weight, Requires Grad: False\n",
            "Layer: layer2.1.bn2.bias, Requires Grad: False\n",
            "Layer: layer3.0.conv1.weight, Requires Grad: False\n",
            "Layer: layer3.0.bn1.weight, Requires Grad: False\n",
            "Layer: layer3.0.bn1.bias, Requires Grad: False\n",
            "Layer: layer3.0.conv2.weight, Requires Grad: False\n",
            "Layer: layer3.0.bn2.weight, Requires Grad: False\n",
            "Layer: layer3.0.bn2.bias, Requires Grad: False\n",
            "Layer: layer3.0.downsample.0.weight, Requires Grad: False\n",
            "Layer: layer3.0.downsample.1.weight, Requires Grad: False\n",
            "Layer: layer3.0.downsample.1.bias, Requires Grad: False\n",
            "Layer: layer3.1.conv1.weight, Requires Grad: False\n",
            "Layer: layer3.1.bn1.weight, Requires Grad: False\n",
            "Layer: layer3.1.bn1.bias, Requires Grad: False\n",
            "Layer: layer3.1.conv2.weight, Requires Grad: False\n",
            "Layer: layer3.1.bn2.weight, Requires Grad: False\n",
            "Layer: layer3.1.bn2.bias, Requires Grad: False\n",
            "Layer: layer4.0.conv1.weight, Requires Grad: False\n",
            "Layer: layer4.0.bn1.weight, Requires Grad: False\n",
            "Layer: layer4.0.bn1.bias, Requires Grad: False\n",
            "Layer: layer4.0.conv2.weight, Requires Grad: False\n",
            "Layer: layer4.0.bn2.weight, Requires Grad: False\n",
            "Layer: layer4.0.bn2.bias, Requires Grad: False\n",
            "Layer: layer4.0.downsample.0.weight, Requires Grad: False\n",
            "Layer: layer4.0.downsample.1.weight, Requires Grad: False\n",
            "Layer: layer4.0.downsample.1.bias, Requires Grad: False\n",
            "Layer: layer4.1.conv1.weight, Requires Grad: False\n",
            "Layer: layer4.1.bn1.weight, Requires Grad: False\n",
            "Layer: layer4.1.bn1.bias, Requires Grad: False\n",
            "Layer: layer4.1.conv2.weight, Requires Grad: False\n",
            "Layer: layer4.1.bn2.weight, Requires Grad: False\n",
            "Layer: layer4.1.bn2.bias, Requires Grad: False\n",
            "Layer: fc.1.weight, Requires Grad: True\n",
            "Layer: fc.1.bias, Requires Grad: True\n"
          ]
        }
      ]
    },
    {
      "cell_type": "code",
      "source": [
        "# Define Loss Function and Optimizer (using Cross Entropy Loss and Adam Optimizer)\n",
        "\n",
        "import torch.optim as optim\n",
        "\n",
        "# Define loss function\n",
        "criterion = nn.CrossEntropyLoss()\n",
        "\n",
        "# Define optimizer\n",
        "optimizer = optim.Adam(model.parameters(), lr=0.0001, weight_decay=.0001)\n"
      ],
      "metadata": {
        "id": "Vweyr9MzON5a"
      },
      "execution_count": 93,
      "outputs": []
    },
    {
      "cell_type": "markdown",
      "source": [
        "# Training the Model"
      ],
      "metadata": {
        "id": "3NLseoTjCvzG"
      }
    },
    {
      "cell_type": "code",
      "source": [
        "# Verify the Model is on the GPU\n",
        "print(next(model.parameters()).device)"
      ],
      "metadata": {
        "colab": {
          "base_uri": "https://localhost:8080/"
        },
        "id": "UnkhGSsBI9Zg",
        "outputId": "cb27e115-6623-4f8a-8906-2aa1207275fd"
      },
      "execution_count": 94,
      "outputs": [
        {
          "output_type": "stream",
          "name": "stdout",
          "text": [
            "cuda:0\n"
          ]
        }
      ]
    },
    {
      "cell_type": "markdown",
      "source": [
        "## Use this for early stopping"
      ],
      "metadata": {
        "id": "mqFWI66Ef8vN"
      }
    },
    {
      "cell_type": "code",
      "source": [
        "def train_model_early_stop(model, train_loader, val_loader, criterion, optimizer, num_epochs=5, patience=10):\n",
        "    train_losses = []\n",
        "    train_accs = []\n",
        "    val_losses = []\n",
        "    val_accs = []\n",
        "\n",
        "    best_val_loss = float('inf')  # Initialize with a very large value\n",
        "    epochs_without_improvement = 0\n",
        "\n",
        "    for epoch in range(num_epochs):\n",
        "        model.train()  # Set model to training mode\n",
        "        running_loss = 0.0\n",
        "        correct, total = 0, 0\n",
        "\n",
        "        for images, labels in train_loader:\n",
        "            images, labels = images.to(device), labels.to(device)  # Move to GPU if available\n",
        "\n",
        "            optimizer.zero_grad()  # Clear previous gradients\n",
        "            outputs = model(images)  # Forward pass\n",
        "            loss = criterion(outputs, labels)  # Compute loss\n",
        "            loss.backward()  # Backpropagation\n",
        "            optimizer.step()  # Update weights\n",
        "\n",
        "            running_loss += loss.item()\n",
        "            _, predicted = torch.max(outputs, 1)  # Get class predictions\n",
        "            total += labels.size(0)\n",
        "            correct += (predicted == labels).sum().item()\n",
        "\n",
        "        train_acc = 100 * (correct / total)\n",
        "        avg_loss = running_loss / len(train_loader)\n",
        "        train_losses.append(avg_loss)\n",
        "        train_accs.append(train_acc)\n",
        "\n",
        "        # Validation phase\n",
        "        model.eval()  # Set model to evaluation mode\n",
        "        val_correct, val_total, val_loss = 0, 0, 0.0\n",
        "        with torch.no_grad():\n",
        "            for images, labels in val_loader:\n",
        "                images, labels = images.to(device), labels.to(device)\n",
        "                outputs = model(images)\n",
        "                loss = criterion(outputs, labels)\n",
        "                val_loss += loss.item()\n",
        "                _, predicted = torch.max(outputs, 1)\n",
        "                val_total += labels.size(0)\n",
        "                val_correct += (predicted == labels).sum().item()\n",
        "\n",
        "        val_acc = 100 * (val_correct / val_total)\n",
        "        val_avg_loss = val_loss / len(val_loader)\n",
        "        val_losses.append(val_avg_loss)\n",
        "        val_accs.append(val_acc)\n",
        "\n",
        "        print(f\"Epoch [{epoch+1}/{num_epochs}] - Loss: {avg_loss:.4f}, Acc: {train_acc:.2f}% | Val Loss: {val_avg_loss:.4f}, Val Acc: {val_acc:.2f}%\")\n",
        "\n",
        "        # Save model if validation loss is lower than the best seen so far\n",
        "        if val_avg_loss < best_val_loss:\n",
        "            best_val_loss = val_avg_loss\n",
        "            epochs_without_improvement = 0  # Reset counter if improvement\n",
        "            model_path = \"/content/drive/My Drive/chest_xray_models/lowest_loss_models/best_model.pth\"\n",
        "            torch.save(model.state_dict(), model_path)\n",
        "            print(f\"Model saved to {model_path} with validation loss: {best_val_loss:.4f}\")\n",
        "        else:\n",
        "            epochs_without_improvement += 1\n",
        "            if epochs_without_improvement >= patience:\n",
        "                print(f\"Early stopping triggered after {epoch + 1} epochs.\")\n",
        "                break  # Exit training loop\n",
        "\n",
        "    return train_losses, train_accs, val_losses, val_accs"
      ],
      "metadata": {
        "id": "aDNDMNJ-eDzK"
      },
      "execution_count": 95,
      "outputs": []
    },
    {
      "cell_type": "code",
      "source": [
        "train_losses, train_accs, val_losses, val_accs = train_model_early_stop(model, train_loader, val_loader, criterion, optimizer, num_epochs=25)"
      ],
      "metadata": {
        "colab": {
          "base_uri": "https://localhost:8080/"
        },
        "id": "hnyHgEFigAgP",
        "outputId": "224c24e9-e737-4807-bb16-ca7642187d2c"
      },
      "execution_count": 96,
      "outputs": [
        {
          "output_type": "stream",
          "name": "stdout",
          "text": [
            "Epoch [1/25] - Loss: 0.5743, Acc: 69.96% | Val Loss: 0.5968, Val Acc: 62.50%\n",
            "Model saved to /content/drive/My Drive/chest_xray_models/lowest_loss_models/best_model.pth with validation loss: 0.5968\n",
            "Epoch [2/25] - Loss: 0.3741, Acc: 84.81% | Val Loss: 0.4746, Val Acc: 62.50%\n",
            "Model saved to /content/drive/My Drive/chest_xray_models/lowest_loss_models/best_model.pth with validation loss: 0.4746\n",
            "Epoch [3/25] - Loss: 0.3131, Acc: 87.24% | Val Loss: 0.4460, Val Acc: 68.75%\n",
            "Model saved to /content/drive/My Drive/chest_xray_models/lowest_loss_models/best_model.pth with validation loss: 0.4460\n",
            "Epoch [4/25] - Loss: 0.2862, Acc: 88.71% | Val Loss: 0.4092, Val Acc: 75.00%\n",
            "Model saved to /content/drive/My Drive/chest_xray_models/lowest_loss_models/best_model.pth with validation loss: 0.4092\n",
            "Epoch [5/25] - Loss: 0.2651, Acc: 89.86% | Val Loss: 0.3999, Val Acc: 75.00%\n",
            "Model saved to /content/drive/My Drive/chest_xray_models/lowest_loss_models/best_model.pth with validation loss: 0.3999\n",
            "Epoch [6/25] - Loss: 0.2541, Acc: 90.10% | Val Loss: 0.3714, Val Acc: 75.00%\n",
            "Model saved to /content/drive/My Drive/chest_xray_models/lowest_loss_models/best_model.pth with validation loss: 0.3714\n",
            "Epoch [7/25] - Loss: 0.2402, Acc: 90.79% | Val Loss: 0.3861, Val Acc: 75.00%\n",
            "Epoch [8/25] - Loss: 0.2309, Acc: 90.86% | Val Loss: 0.3721, Val Acc: 75.00%\n",
            "Epoch [9/25] - Loss: 0.2395, Acc: 90.75% | Val Loss: 0.3507, Val Acc: 81.25%\n",
            "Model saved to /content/drive/My Drive/chest_xray_models/lowest_loss_models/best_model.pth with validation loss: 0.3507\n",
            "Epoch [10/25] - Loss: 0.2304, Acc: 90.84% | Val Loss: 0.3891, Val Acc: 75.00%\n",
            "Epoch [11/25] - Loss: 0.2215, Acc: 91.28% | Val Loss: 0.3099, Val Acc: 81.25%\n",
            "Model saved to /content/drive/My Drive/chest_xray_models/lowest_loss_models/best_model.pth with validation loss: 0.3099\n",
            "Epoch [12/25] - Loss: 0.2212, Acc: 91.50% | Val Loss: 0.3483, Val Acc: 75.00%\n",
            "Epoch [13/25] - Loss: 0.2130, Acc: 91.38% | Val Loss: 0.3620, Val Acc: 75.00%\n",
            "Epoch [14/25] - Loss: 0.2186, Acc: 91.30% | Val Loss: 0.3628, Val Acc: 75.00%\n",
            "Epoch [15/25] - Loss: 0.2129, Acc: 92.06% | Val Loss: 0.2519, Val Acc: 87.50%\n",
            "Model saved to /content/drive/My Drive/chest_xray_models/lowest_loss_models/best_model.pth with validation loss: 0.2519\n",
            "Epoch [16/25] - Loss: 0.2165, Acc: 91.51% | Val Loss: 0.2873, Val Acc: 87.50%\n",
            "Epoch [17/25] - Loss: 0.2106, Acc: 92.05% | Val Loss: 0.3469, Val Acc: 81.25%\n",
            "Epoch [18/25] - Loss: 0.2111, Acc: 91.93% | Val Loss: 0.3359, Val Acc: 81.25%\n",
            "Epoch [19/25] - Loss: 0.2033, Acc: 91.81% | Val Loss: 0.3068, Val Acc: 81.25%\n",
            "Epoch [20/25] - Loss: 0.2044, Acc: 91.93% | Val Loss: 0.2997, Val Acc: 81.25%\n",
            "Epoch [21/25] - Loss: 0.2158, Acc: 91.24% | Val Loss: 0.2839, Val Acc: 81.25%\n",
            "Epoch [22/25] - Loss: 0.2160, Acc: 91.44% | Val Loss: 0.2718, Val Acc: 87.50%\n",
            "Epoch [23/25] - Loss: 0.2001, Acc: 92.04% | Val Loss: 0.3068, Val Acc: 81.25%\n",
            "Epoch [24/25] - Loss: 0.2034, Acc: 91.91% | Val Loss: 0.2747, Val Acc: 87.50%\n",
            "Epoch [25/25] - Loss: 0.2029, Acc: 91.81% | Val Loss: 0.2750, Val Acc: 87.50%\n",
            "Early stopping triggered after 25 epochs.\n"
          ]
        }
      ]
    },
    {
      "cell_type": "markdown",
      "source": [
        "## Use this for no early stopping"
      ],
      "metadata": {
        "id": "gzIJQyNygTON"
      }
    },
    {
      "cell_type": "code",
      "source": [
        "# Function to Train the Model\n",
        "# Iterate through the training set in batches, compute the predictions,\n",
        "# compute the loss, update the models weights, and validate using validation set.\n",
        "\n",
        "def train_model(model, train_loader, val_loader, criterion, optimizer, num_epochs=5):\n",
        "    train_losses = []\n",
        "    train_accs = []\n",
        "    val_losses = []\n",
        "    val_accs = []\n",
        "\n",
        "\n",
        "    for epoch in range(num_epochs):\n",
        "        model.train()  # Set model to training mode\n",
        "        running_loss = 0.0\n",
        "        correct, total = 0, 0\n",
        "\n",
        "        for images, labels in train_loader:\n",
        "            images, labels = images.to(device), labels.to(device)  # Move to GPU if available\n",
        "\n",
        "            optimizer.zero_grad()  # Clear previous gradients\n",
        "            outputs = model(images)  # Forward pass\n",
        "            loss = criterion(outputs, labels)  # Compute loss\n",
        "            loss.backward()  # Backpropagation\n",
        "            optimizer.step()  # Update weights\n",
        "\n",
        "            running_loss += loss.item()\n",
        "            _, predicted = torch.max(outputs, 1)  # Get class predictions\n",
        "            total += labels.size(0)\n",
        "            correct += (predicted == labels).sum().item()\n",
        "\n",
        "        train_acc = 100 * (correct / total)\n",
        "        avg_loss = running_loss / len(train_loader)\n",
        "        train_losses.append(avg_loss)\n",
        "        train_accs.append(train_acc)\n",
        "\n",
        "        # Validation phase\n",
        "        model.eval()  # Set model to evaluation mode\n",
        "        val_correct, val_total, val_loss = 0, 0, 0.0\n",
        "        with torch.no_grad():\n",
        "            for images, labels in val_loader:\n",
        "                images, labels = images.to(device), labels.to(device)\n",
        "                outputs = model(images)\n",
        "                loss = criterion(outputs, labels)\n",
        "                val_loss += loss.item()\n",
        "                _, predicted = torch.max(outputs, 1)\n",
        "                val_total += labels.size(0)\n",
        "                val_correct += (predicted == labels).sum().item()\n",
        "\n",
        "        val_acc = 100 * (val_correct / val_total)\n",
        "        val_avg_loss = val_loss / len(val_loader)\n",
        "        val_losses.append(val_avg_loss)\n",
        "        val_accs.append(val_acc)\n",
        "\n",
        "        print(f\"Epoch [{epoch+1}/{num_epochs}] - Loss: {avg_loss:.4f}, Acc: {train_acc:.2f}% | Val Loss: {val_avg_loss:.4f}, Val Acc: {val_acc:.2f}%\")\n",
        "\n",
        "    return train_losses, train_accs, val_losses, val_accs # Return performance metrics\n",
        "\n"
      ],
      "metadata": {
        "id": "MxORxwUFOm3k"
      },
      "execution_count": null,
      "outputs": []
    },
    {
      "cell_type": "code",
      "source": [
        "train_losses, train_accs, val_losses, val_accs = train_model(model, train_loader, val_loader, criterion, optimizer, num_epochs=25)"
      ],
      "metadata": {
        "id": "BFyErd_r-2Zb",
        "colab": {
          "base_uri": "https://localhost:8080/"
        },
        "outputId": "b4bfe299-693e-42de-ec93-613ed5ce88df"
      },
      "execution_count": null,
      "outputs": [
        {
          "output_type": "stream",
          "name": "stdout",
          "text": [
            "Epoch [1/25] - Loss: 0.3584, Acc: 84.08% | Val Loss: 0.3201, Val Acc: 87.50%\n",
            "Epoch [2/25] - Loss: 0.2356, Acc: 90.63% | Val Loss: 0.2958, Val Acc: 81.25%\n",
            "Epoch [3/25] - Loss: 0.2261, Acc: 91.21% | Val Loss: 0.3172, Val Acc: 81.25%\n",
            "Epoch [4/25] - Loss: 0.2178, Acc: 91.46% | Val Loss: 0.2089, Val Acc: 93.75%\n",
            "Epoch [5/25] - Loss: 0.2131, Acc: 91.52% | Val Loss: 0.2349, Val Acc: 87.50%\n",
            "Epoch [6/25] - Loss: 0.2114, Acc: 91.46% | Val Loss: 0.2763, Val Acc: 81.25%\n",
            "Epoch [7/25] - Loss: 0.2077, Acc: 91.83% | Val Loss: 0.2238, Val Acc: 87.50%\n",
            "Epoch [8/25] - Loss: 0.2059, Acc: 91.48% | Val Loss: 0.2021, Val Acc: 93.75%\n",
            "Epoch [9/25] - Loss: 0.2019, Acc: 92.09% | Val Loss: 0.1773, Val Acc: 100.00%\n",
            "Epoch [10/25] - Loss: 0.2191, Acc: 91.55% | Val Loss: 0.4531, Val Acc: 75.00%\n",
            "Epoch [11/25] - Loss: 0.2108, Acc: 91.41% | Val Loss: 0.3996, Val Acc: 75.00%\n",
            "Epoch [12/25] - Loss: 0.2119, Acc: 91.52% | Val Loss: 0.1709, Val Acc: 100.00%\n",
            "Epoch [13/25] - Loss: 0.2094, Acc: 91.65% | Val Loss: 0.3111, Val Acc: 81.25%\n",
            "Epoch [14/25] - Loss: 0.2067, Acc: 91.77% | Val Loss: 0.3012, Val Acc: 81.25%\n",
            "Epoch [15/25] - Loss: 0.2086, Acc: 91.53% | Val Loss: 0.2337, Val Acc: 87.50%\n",
            "Epoch [16/25] - Loss: 0.2106, Acc: 91.92% | Val Loss: 0.2570, Val Acc: 87.50%\n",
            "Epoch [17/25] - Loss: 0.2078, Acc: 91.70% | Val Loss: 0.1776, Val Acc: 100.00%\n",
            "Epoch [18/25] - Loss: 0.2074, Acc: 91.92% | Val Loss: 0.1954, Val Acc: 93.75%\n",
            "Epoch [19/25] - Loss: 0.2036, Acc: 91.88% | Val Loss: 0.2079, Val Acc: 93.75%\n",
            "Epoch [20/25] - Loss: 0.2126, Acc: 91.44% | Val Loss: 0.2326, Val Acc: 81.25%\n",
            "Epoch [21/25] - Loss: 0.2057, Acc: 92.05% | Val Loss: 0.2785, Val Acc: 81.25%\n",
            "Epoch [22/25] - Loss: 0.2079, Acc: 92.02% | Val Loss: 0.2119, Val Acc: 87.50%\n",
            "Epoch [23/25] - Loss: 0.2105, Acc: 91.70% | Val Loss: 0.2228, Val Acc: 87.50%\n",
            "Epoch [24/25] - Loss: 0.2045, Acc: 91.61% | Val Loss: 0.2109, Val Acc: 87.50%\n",
            "Epoch [25/25] - Loss: 0.2150, Acc: 91.46% | Val Loss: 0.3296, Val Acc: 81.25%\n"
          ]
        }
      ]
    },
    {
      "cell_type": "markdown",
      "source": [
        "## Statistics"
      ],
      "metadata": {
        "id": "dx4VLi87gZZQ"
      }
    },
    {
      "cell_type": "code",
      "source": [
        "average_val_accuracy = sum(val_accs) / len(val_accs)\n",
        "print(f\"Average Validation Accuracy: {average_val_accuracy:.2f}%\")\n",
        "\n",
        "for i in range(0, len(val_accs), 5):\n",
        "    # Get the validation accuracies for the current 5-epoch interval\n",
        "    interval_accs = val_accs[i : i + 5]\n",
        "\n",
        "    # Calculate the average accuracy for the interval\n",
        "    avg_acc = sum(interval_accs) / len(interval_accs)\n",
        "\n",
        "    # Print the average accuracy for the interval\n",
        "    print(f\"Epochs {i + 1}-{i + 5}: Average Validation Accuracy = {avg_acc:.2f}%\")"
      ],
      "metadata": {
        "colab": {
          "base_uri": "https://localhost:8080/"
        },
        "id": "kV_jGCMKiMns",
        "outputId": "0ec45e8d-1315-48a3-c970-d7b94c387a53"
      },
      "execution_count": 97,
      "outputs": [
        {
          "output_type": "stream",
          "name": "stdout",
          "text": [
            "Average Validation Accuracy: 78.25%\n",
            "Epochs 1-5: Average Validation Accuracy = 68.75%\n",
            "Epochs 6-10: Average Validation Accuracy = 76.25%\n",
            "Epochs 11-15: Average Validation Accuracy = 78.75%\n",
            "Epochs 16-20: Average Validation Accuracy = 82.50%\n",
            "Epochs 21-25: Average Validation Accuracy = 85.00%\n"
          ]
        }
      ]
    },
    {
      "cell_type": "code",
      "source": [
        "import matplotlib.pyplot as plt\n",
        "\n",
        "def plot_performance(train_losses, train_accs, val_losses, val_accs):\n",
        "    \"\"\"Plots training and validation accuracy/loss vs. epoch.\"\"\"\n",
        "\n",
        "    epochs = range(1, len(train_losses) + 1)\n",
        "\n",
        "    # Plot Accuracy\n",
        "    plt.figure(figsize=(12, 5))\n",
        "    plt.subplot(1, 2, 1)\n",
        "    plt.plot(epochs, train_accs, label='Training Accuracy')\n",
        "    plt.plot(epochs, val_accs, label='Validation Accuracy')\n",
        "    plt.title('Training and Validation Accuracy')\n",
        "    plt.xlabel('Epoch')\n",
        "    plt.ylabel('Accuracy')\n",
        "    plt.legend()\n",
        "\n",
        "    # Plot Loss\n",
        "    plt.subplot(1, 2, 2)\n",
        "    plt.plot(epochs, train_losses, label='Training Loss')\n",
        "    plt.plot(epochs, val_losses, label='Validation Loss')\n",
        "    plt.title('Training and Validation Loss')\n",
        "    plt.xlabel('Epoch')\n",
        "    plt.ylabel('Loss')\n",
        "    plt.legend()\n",
        "\n",
        "    plt.tight_layout()  # Adjust layout for better spacing\n",
        "    plt.show()\n",
        "\n",
        "# Call the plotting function\n",
        "plot_performance(train_losses, train_accs, val_losses, val_accs)"
      ],
      "metadata": {
        "colab": {
          "base_uri": "https://localhost:8080/",
          "height": 367
        },
        "id": "pVRpKSgjr_tF",
        "outputId": "b9f5adc5-55d4-4f2c-ad30-f8858e3c746b"
      },
      "execution_count": 98,
      "outputs": [
        {
          "output_type": "display_data",
          "data": {
            "text/plain": [
              "<Figure size 1200x500 with 2 Axes>"
            ],
            "image/png": "[encoded data removed]"
          },
          "metadata": {}
        }
      ]
    },
    {
      "cell_type": "markdown",
      "source": [
        "# K-Fold Cross Validation"
      ],
      "metadata": {
        "id": "r5N4jtWLC5sZ"
      }
    },
    {
      "cell_type": "code",
      "source": [
        "# K-Fold Cross Validation\n",
        "import torch\n",
        "from sklearn.model_selection import KFold\n",
        "from torch.utils.data import DataLoader, Subset\n",
        "\n",
        "# Combine train and validation datasets\n",
        "combined_dataset = torch.utils.data.ConcatDataset([train_dataset, val_dataset])\n",
        "\n",
        "# Define the number of folds (e.g., K=5)\n",
        "k = 5\n",
        "kf = KFold(n_splits=k, shuffle=True, random_state=42)\n",
        "\n",
        "# Store metrics for each fold\n",
        "all_train_losses = []\n",
        "all_train_accs = []\n",
        "all_val_losses = []\n",
        "all_val_accs = []\n",
        "\n",
        "\n",
        "# K-fold cross-validation loop\n",
        "for fold, (train_index, val_index) in enumerate(kf.split(combined_dataset)):\n",
        "    print(f\"Fold {fold + 1}:\")\n",
        "\n",
        "    # Create train and validation subsets using the indices\n",
        "    train_subset = Subset(combined_dataset, train_index)\n",
        "    val_subset = Subset(combined_dataset, val_index)\n",
        "\n",
        "    # Create DataLoaders for this fold\n",
        "    train_loader = DataLoader(train_subset, batch_size=32, shuffle=True)\n",
        "    val_loader = DataLoader(val_subset, batch_size=32, shuffle=False)\n",
        "\n",
        "    # Create a new model instance\n",
        "    model = models.resnet18(weights=models.ResNet18_Weights.DEFAULT) # create fresh model instance\n",
        "    num_features = model.fc.in_features  # Get the input size of the FC layer\n",
        "    model.fc = nn.Linear(num_features, 2)  # Change output to 2 classes (NORMAL, PNEUMONIA)\n",
        "    model = model.to(device)\n",
        "\n",
        "    # Create a new optimizer instance\n",
        "    optimizer = optim.Adam(model.parameters(), lr=0.0001, weight_decay=0.001)\n",
        "\n",
        "    # Train and evaluate for this fold (using the SAME model)\n",
        "    train_losses, train_accs, val_losses, val_accs = train_model(model, train_loader, val_loader, criterion, optimizer, num_epochs=3)\n",
        "\n",
        "    # Store the metrics\n",
        "    all_train_losses.append(train_losses)\n",
        "    all_train_accs.append(train_accs)\n",
        "    all_val_losses.append(val_losses)\n",
        "    all_val_accs.append(val_accs)\n",
        "\n"
      ],
      "metadata": {
        "id": "1S59qKw5wJTT",
        "collapsed": true
      },
      "execution_count": null,
      "outputs": []
    },
    {
      "cell_type": "code",
      "source": [
        "import matplotlib.pyplot as plt\n",
        "import seaborn as sns\n",
        "\n",
        "# Calculate average loss and accuracy across folds for each epoch\n",
        "avg_train_losses = np.mean(all_train_losses, axis=0)\n",
        "avg_train_accs = np.mean(all_train_accs, axis=0)\n",
        "avg_val_losses = np.mean(all_val_losses, axis=0)\n",
        "avg_val_accs = np.mean(all_val_accs, axis=0)\n",
        "\n",
        "# Calculate average loss per fold (across all epochs within each fold)\n",
        "avg_loss_per_fold = [np.mean(fold_losses) for fold_losses in all_val_losses]\n",
        "\n",
        "# Plot average loss per fold\n",
        "plt.figure()\n",
        "folds = range(1, k + 1)  # Create a range of fold values with step size 1\n",
        "plt.plot(folds, avg_loss_per_fold, marker='o', linestyle='-')\n",
        "plt.title(\"Average Loss per Fold\")\n",
        "plt.xlabel(\"Fold\")\n",
        "plt.ylabel(\"Average Loss\")\n",
        "plt.xticks(folds)  # Explicitly set x-axis ticks to fold values\n",
        "plt.show()\n",
        "\n",
        "# 2. Average Validation Accuracy per Fold\n",
        "avg_val_accs_per_fold = [np.mean(accs) for accs in all_val_accs]\n",
        "plt.figure()\n",
        "sns.barplot(x=list(range(1, k + 1)), y=avg_val_accs_per_fold)\n",
        "plt.title(\"Average Validation Accuracy per Fold\")\n",
        "plt.xlabel(\"Fold\")\n",
        "plt.ylabel(\"Accuracy\")\n",
        "plt.show()\n",
        "\n",
        "# 3. Overall Average Validation Accuracy\n",
        "overall_avg_val_acc = np.mean(avg_val_accs_per_fold)\n",
        "print(f\"Overall Average Validation Accuracy: {overall_avg_val_acc:.2f}%\")"
      ],
      "metadata": {
        "id": "DraaddEh-TlJ",
        "collapsed": true
      },
      "execution_count": null,
      "outputs": []
    },
    {
      "cell_type": "markdown",
      "source": [
        "# Evaluate Our Model on the Test Set"
      ],
      "metadata": {
        "id": "4KjaXk_NC_tz"
      }
    },
    {
      "cell_type": "code",
      "source": [
        "# Function to evaluate the model. Make predictions, calculate accuracy\n",
        "\n",
        "def evaluate_model(model, test_loader):\n",
        "    model.eval()  # Set to evaluation mode\n",
        "    correct, total = 0, 0\n",
        "    all_labels = []\n",
        "    all_preds = []\n",
        "\n",
        "    with torch.no_grad():  # Disable gradient calculations\n",
        "        for images, labels in test_loader:\n",
        "            images, labels = images.to(device), labels.to(device)\n",
        "            outputs = model(images)  # Forward pass\n",
        "            _, predicted = torch.max(outputs, 1)  # Get class predictions\n",
        "\n",
        "            total += labels.size(0)\n",
        "            correct += (predicted == labels).sum().item()\n",
        "\n",
        "            all_labels.extend(labels.cpu().numpy())\n",
        "            all_preds.extend(predicted.cpu().numpy())\n",
        "\n",
        "    accuracy = 100 * correct / total\n",
        "    print(f\"Test Accuracy: {accuracy:.2f}%\")\n",
        "\n",
        "    return all_labels, all_preds  # Return results for further analysis\n"
      ],
      "metadata": {
        "id": "1J6Q1paJVIRs"
      },
      "execution_count": 99,
      "outputs": []
    },
    {
      "cell_type": "code",
      "source": [
        "labels, preds = evaluate_model(model, test_loader)\n",
        "\n",
        "from sklearn.metrics import classification_report\n",
        "\n",
        "# Print detailed classification metrics\n",
        "print(classification_report(labels, preds, target_names=['NORMAL', 'PNEUMONIA']))\n"
      ],
      "metadata": {
        "colab": {
          "base_uri": "https://localhost:8080/"
        },
        "id": "0hw6-_VbVbGj",
        "outputId": "8c26e996-f21f-4a7a-8eef-bd5c970b2c49"
      },
      "execution_count": 100,
      "outputs": [
        {
          "output_type": "stream",
          "name": "stdout",
          "text": [
            "Test Accuracy: 84.78%\n",
            "              precision    recall  f1-score   support\n",
            "\n",
            "      NORMAL       0.94      0.63      0.76       234\n",
            "   PNEUMONIA       0.82      0.98      0.89       390\n",
            "\n",
            "    accuracy                           0.85       624\n",
            "   macro avg       0.88      0.80      0.82       624\n",
            "weighted avg       0.86      0.85      0.84       624\n",
            "\n"
          ]
        }
      ]
    },
    {
      "cell_type": "code",
      "source": [
        "# 1. Load the saved model's state dictionary\n",
        "model_path = \"/content/drive/My Drive/chest_xray_models/lowest_loss_models/best_model.pth\"  # Path to saved model\n",
        "model.load_state_dict(torch.load(model_path))\n",
        "\n",
        "# 2. Run the evaluation and get metrics\n",
        "labels, preds = evaluate_model(model, test_loader)\n",
        "\n",
        "# 3. Print the classification report\n",
        "from sklearn.metrics import classification_report\n",
        "print(classification_report(labels, preds, target_names=['NORMAL', 'PNEUMONIA']))"
      ],
      "metadata": {
        "colab": {
          "base_uri": "https://localhost:8080/"
        },
        "id": "Px0pG76awgjv",
        "outputId": "c3e3bed2-507d-4294-8232-27cc008e2fc2"
      },
      "execution_count": 102,
      "outputs": [
        {
          "output_type": "stream",
          "name": "stdout",
          "text": [
            "Test Accuracy: 87.18%\n",
            "              precision    recall  f1-score   support\n",
            "\n",
            "      NORMAL       0.91      0.73      0.81       234\n",
            "   PNEUMONIA       0.86      0.96      0.90       390\n",
            "\n",
            "    accuracy                           0.87       624\n",
            "   macro avg       0.88      0.84      0.86       624\n",
            "weighted avg       0.88      0.87      0.87       624\n",
            "\n"
          ]
        }
      ]
    },
    {
      "cell_type": "code",
      "source": [
        "import seaborn as sns\n",
        "import matplotlib.pyplot as plt\n",
        "from sklearn.metrics import confusion_matrix\n",
        "\n",
        "# Compute confusion matrix\n",
        "cm = confusion_matrix(labels, preds)\n",
        "\n",
        "# Plot the confusion matrix\n",
        "plt.figure(figsize=(6, 5))\n",
        "sns.heatmap(cm, annot=True, fmt=\"d\", cmap=\"Blues\", xticklabels=['NORMAL', 'PNEUMONIA'], yticklabels=['NORMAL', 'PNEUMONIA'])\n",
        "plt.xlabel(\"Predicted\")\n",
        "plt.ylabel(\"Actual\")\n",
        "plt.title(\"Confusion Matrix\")\n",
        "plt.show()\n"
      ],
      "metadata": {
        "colab": {
          "base_uri": "https://localhost:8080/",
          "height": 487
        },
        "id": "9rPkqY7eV77l",
        "outputId": "a92b080c-c8d4-456c-964f-b7f4b4335156"
      },
      "execution_count": 103,
      "outputs": [
        {
          "output_type": "display_data",
          "data": {
            "text/plain": [
              "<Figure size 600x500 with 2 Axes>"
            ],
            "image/png": "[encoded data removed]"
          },
          "metadata": {}
        }
      ]
    },
    {
      "cell_type": "markdown",
      "source": [
        "# Save the State Dictionary of the Model for later use"
      ],
      "metadata": {
        "id": "GWW8d6V0DJkG"
      }
    },
    {
      "cell_type": "code",
      "source": [
        "# Save the state dictionary of the model for later use\n",
        "\n",
        "model_path = \"/content/drive/My Drive/chest_xray_models/resnet18_L2Reg0001_0001LR_DA_DO05_v2.pth\"\n",
        "\n",
        "# Create the parent directory if it doesn't exist\n",
        "os.makedirs(os.path.dirname(model_path), exist_ok=True)\n",
        "\n",
        "# Save the model's state dictionary\n",
        "torch.save(model.state_dict(), model_path)\n",
        "\n",
        "print(f\"Model saved to {model_path}\")\n"
      ],
      "metadata": {
        "id": "dMfyMp-OWogS",
        "colab": {
          "base_uri": "https://localhost:8080/"
        },
        "outputId": "56882136-7de1-4b27-e0e1-50bd1b45858c"
      },
      "execution_count": 104,
      "outputs": [
        {
          "output_type": "stream",
          "name": "stdout",
          "text": [
            "Model saved to /content/drive/My Drive/chest_xray_models/resnet18_L2Reg0001_0001LR_DA_DO05_v2.pth\n"
          ]
        }
      ]
    }
  ]
}